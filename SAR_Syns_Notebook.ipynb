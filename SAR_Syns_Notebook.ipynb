{
 "cells": [
  {
   "cell_type": "markdown",
   "id": "cc35c560-e31f-4c90-a475-5d8a885a502e",
   "metadata": {},
   "source": [
    "### **SAR Image Visualization:**  \n",
    "***We are required to make observations about the effect of Windowing on the SAR complex-SLC data.***  \n",
    "\n",
    "***The code is divided in 3 parts:***  \n",
    "***1. Loading the file.***  \n",
    "***2. Applying the window and Fourier transform to obtain a filtered image.***  \n",
    "***3. Plotting the results for comparison.***"
   ]
  },
  {
   "cell_type": "markdown",
   "id": "6be52bf2-26e9-4ed0-9c41-387bf2b71983",
   "metadata": {},
   "source": [
    "***Code Imports***"
   ]
  },
  {
   "cell_type": "code",
   "execution_count": null,
   "id": "bde6a501-3836-4548-8417-c5060d3ed72b",
   "metadata": {
    "scrolled": true
   },
   "outputs": [],
   "source": [
    "import matplotlib.pyplot as plt\n",
    "import numpy as np\n",
    "from scipy import fft\n",
    "from sarpy.io.complex.converter import open_complex"
   ]
  },
  {
   "cell_type": "markdown",
   "id": "10ad9c23-fca1-43ac-8eb5-d7b1a3d61537",
   "metadata": {},
   "source": [
    "***Image data is read using the SICD/NITF file reader from *SarPy* package.***"
   ]
  },
  {
   "cell_type": "code",
   "execution_count": null,
   "id": "67cf3594-e861-4659-9b20-d8816161a491",
   "metadata": {},
   "outputs": [],
   "source": [
    "filename = \"IMG-VV-STRIXB-20220811T004713Z-SMSLC-SICD.nitf\"\n",
    "\n",
    "reader = open_complex(filename)\n",
    "slc_image_data = reader[:]\n",
    "n_az, n_rg = slc_image_data.shape\n",
    "print(f\"SLC dtype: {slc_image_data.dtype}, shape: {slc_image_data.shape}\")"
   ]
  },
  {
   "cell_type": "markdown",
   "id": "6d9064ec-bc75-4506-a635-e3404ea5940c",
   "metadata": {},
   "source": [
    "***This section performs two tasks:***  \n",
    "***1. It sections the *Hanning* window such that only the center part of the image comes under the window.***  \n",
    "***2. It obtains the filtered image through series of time to frequency and frequency to time conversions along the range lines.***"
   ]
  },
  {
   "cell_type": "code",
   "execution_count": null,
   "id": "2696a369-a5a5-4393-9c20-b7dde9d7a46e",
   "metadata": {},
   "outputs": [],
   "source": [
    "window_frac = 0.5  # part of the window to be used\n",
    "\n",
    "range_window = np.zeros(n_rg)\n",
    "center_rbin = (n_rg // 2)   \n",
    "half_window_width = int((n_rg * window_frac) / 2)  # division by 2 ensures window symmetry\n",
    "hanning_window_section = np.hanning(2 * half_window_width)\n",
    "range_window[center_rbin - half_window_width : center_rbin + half_window_width] = hanning_window_section\n",
    "\n",
    "image_fft = fft.fftshift(fft.fft(slc_image_data, axis=1), axes=1)  # fftshift used to enable multiplication of the low frequency spectra with the window.\n",
    "windowed_fft = image_fft * range_window[None, :]\n",
    "filtered_image = fft.ifft(fft.ifftshift(windowed_fft, axes=1), n_rg, axis=1)  # ifftshift performed before ifft to shift the spectrum back to its original place.\n"
   ]
  },
  {
   "cell_type": "markdown",
   "id": "d6a3459d-98b7-4150-8b57-5e95f64a6c6a",
   "metadata": {},
   "source": [
    "***This section contains Display function which plots the *power(dB)* of the input images for comparison.  \n",
    "And the dynamic range (Vmin, Vmax values) of the images while plotting have been set to default *(-40,20)* to account for weak (vegetation, shadows, water body etc.) and strong scatterers (metallic surfaces, buildings, ships) both.*** "
   ]
  },
  {
   "cell_type": "code",
   "execution_count": null,
   "id": "30c60d55-30c6-4e50-a2f4-8e3233caec96",
   "metadata": {},
   "outputs": [],
   "source": [
    "def plot_images(original_image, filtered_image, row_range=None, col_range=None):\n",
    "    \"\"\"\n",
    "    Display full or zoomed images (original vs filtered).\n",
    "    \"\"\"\n",
    "    to_zoom = bool(row_range and col_range)\n",
    "\n",
    "    if to_zoom:\n",
    "        extent = [col_range[1], col_range[0], row_range[0], row_range[1]]\n",
    "    else:\n",
    "        extent = [0, n_rg, n_az, 0]  # full range\n",
    "\n",
    "    plt.figure(figsize=(12, 6))\n",
    "    \n",
    "    plt.subplot(1, 2, 1)\n",
    "    plt.imshow(20*np.log10(original_image + 1e-12), cmap = \"gray\", vmin = -40, vmax = 20, extent = extent)\n",
    "    plt.title(\"Original\" + (\" (Zoomed)\" if (to_zoom) else \"\"))\n",
    "    plt.xlabel(\"Azimuth\"); plt.ylabel(\"Range\");\n",
    "\n",
    "    plt.subplot(1, 2, 2)\n",
    "    plt.imshow(20*np.log10(filtered_image + 1e-12), cmap = \"gray\", vmin = -40, vmax = 20, extent = extent)\n",
    "    plt.title(\"Filtered\" + (\" (Zoomed)\" if (to_zoom) else \"\"))\n",
    "    plt.xlabel(\"Azimuth\"); plt.ylabel(\"Range\")\n",
    "\n",
    "    plt.tight_layout()\n",
    "    plt.show()"
   ]
  },
  {
   "cell_type": "markdown",
   "id": "a5fb178b-1f79-47e2-a37b-8847bae4866a",
   "metadata": {},
   "source": [
    "***This section passes the magnitude of the full and zoomed-in original and filtered images to the display function.*** "
   ]
  },
  {
   "cell_type": "code",
   "execution_count": null,
   "id": "e37f1366-995e-4817-abaa-8fa0801b3511",
   "metadata": {},
   "outputs": [],
   "source": [
    "original_image_magnitude = np.abs(slc_image_data)  # original magnitude\n",
    "filtered_image_magnitude = np.abs(filtered_image)  # filtered magnitude\n",
    "\n",
    "plot_images(original_image_magnitude, filtered_image_magnitude)\n",
    "\n",
    "# range and azimuth indices to gain a close-up look of Busan harbor. \n",
    "col_range = (13150, 14450)\n",
    "row_range = (925, 2025)\n",
    "\n",
    "zoomed_original_magnitude = original_image_magnitude[row_range[0]:row_range[1], col_range[0]:col_range[1]]\n",
    "zoomed_filtered_magnitude = filtered_image_magnitude[row_range[0]:row_range[1], col_range[0]:col_range[1]]\n",
    "\n",
    "plot_images(zoomed_original_magnitude, zoomed_filtered_magnitude, row_range=row_range, col_range=col_range)\n"
   ]
  }
 ],
 "metadata": {
  "kernelspec": {
   "display_name": "Python 3 (ipykernel)",
   "language": "python",
   "name": "python3"
  },
  "language_info": {
   "codemirror_mode": {
    "name": "ipython",
    "version": 3
   },
   "file_extension": ".py",
   "mimetype": "text/x-python",
   "name": "python",
   "nbconvert_exporter": "python",
   "pygments_lexer": "ipython3",
   "version": "3.13.5"
  }
 },
 "nbformat": 4,
 "nbformat_minor": 5
}
